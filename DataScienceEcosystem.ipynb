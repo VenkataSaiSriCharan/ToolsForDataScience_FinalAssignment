{
  "metadata": {
    "kernelspec": {
      "name": "python",
      "display_name": "Python (Pyodide)",
      "language": "python"
    },
    "language_info": {
      "codemirror_mode": {
        "name": "python",
        "version": 3
      },
      "file_extension": ".py",
      "mimetype": "text/x-python",
      "name": "python",
      "nbconvert_exporter": "python",
      "pygments_lexer": "ipython3",
      "version": "3.8"
    }
  },
  "nbformat_minor": 5,
  "nbformat": 4,
  "cells": [
    {
      "id": "09a2b442-88b1-4892-b541-3934a7ce74a6",
      "cell_type": "markdown",
      "source": "# Data Science Tools and Ecosystem",
      "metadata": {}
    },
    {
      "id": "b34d0e1d-9604-4c33-bbd9-0fd29c037e7d",
      "cell_type": "markdown",
      "source": "In this notebook, Data Science Tools and Ecosystem are summarized.\n",
      "metadata": {}
    },
    {
      "id": "d325900d-60eb-4c45-8094-0ed0cf5cfbe5",
      "cell_type": "markdown",
      "source": "_Objectives:_\n* List popular languages for Data Science\n* List popular libraries for Data Science\n* List Data Science Tools\n* List few examples of arthimetic operations\n",
      "metadata": {}
    },
    {
      "id": "f1535cdf-247f-461d-9435-e870e943024e",
      "cell_type": "markdown",
      "source": "Some of the popular languages that Data Scientists use are:\n<ol>\n<li>Python</li>\n<li>R language</li>\n<li>SQL</li>",
      "metadata": {}
    },
    {
      "id": "29f5180e-c43e-4ba8-8824-e4084d63c0a8",
      "cell_type": "markdown",
      "source": "Some of the commonly used libraries used by Data Scientists include:\n<ol>\n<li>Pandas </li>\n<li>Numpy </li>\n<li>Scikit Learn</li>\n<li>Scipy</li>\n",
      "metadata": {}
    },
    {
      "id": "f7b949d4-bad9-4963-998b-f8ff2c77bedc",
      "cell_type": "markdown",
      "source": "|Data Science Tools|\n|-----|\n|Apache Spark|\n|Tensor Flow|\n|MongoDB|",
      "metadata": {}
    },
    {
      "id": "87c8b951-4348-40a6-8137-7e2fd1bbd21e",
      "cell_type": "markdown",
      "source": "### Below are a few examples of evaluating arithmetic expressions in Python.\n\n",
      "metadata": {}
    },
    {
      "id": "ae83d832-affc-45ae-aa70-0a03474d2654",
      "cell_type": "code",
      "source": "#This a simple arithmetic expression to mutiply then add integers\n(3*4)+5",
      "metadata": {
        "trusted": true
      },
      "outputs": [
        {
          "execution_count": 5,
          "output_type": "execute_result",
          "data": {
            "text/plain": "17"
          },
          "metadata": {}
        }
      ],
      "execution_count": 5
    },
    {
      "id": "0637a5e6-d29f-480e-beb0-53eac877e4ee",
      "cell_type": "code",
      "source": "#This will convert 200 minutes to hours by diving by 60\nmins=200\nhours=(mins/60)\nprint(hours)",
      "metadata": {
        "trusted": true
      },
      "outputs": [
        {
          "name": "stdout",
          "output_type": "stream",
          "text": "3.3333333333333335\n"
        }
      ],
      "execution_count": 9
    },
    {
      "id": "99261035-cb96-42be-aedf-4aad96d32dc3",
      "cell_type": "markdown",
      "source": "## Author\nVenkata Sai Sri Charan Akella",
      "metadata": {}
    }
  ]
}